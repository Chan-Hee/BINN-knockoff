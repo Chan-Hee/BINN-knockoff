{
 "cells": [
  {
   "cell_type": "markdown",
   "metadata": {},
   "source": [
    "# Controlled variable Selection with Model-X Knockoffs"
   ]
  },
  {
   "cell_type": "markdown",
   "metadata": {},
   "source": [
    "This vignette illustrates the basic usage of the knockoff package with Model-X knockoffs. In this scenario we assume that the distribution of the predictors is known (or that it can be well approximated), but we make no assumptions on the conditional distribution of the response. For simplicity, we will use synthetic data constructed from a linear model such that the response only depends on a small fraction of the variables."
   ]
  },
  {
   "cell_type": "code",
   "execution_count": 8,
   "metadata": {
    "vscode": {
     "languageId": "r"
    }
   },
   "outputs": [
    {
     "name": "stderr",
     "output_type": "stream",
     "text": [
      "Loading required package: foreach\n",
      "\n",
      "Loading required package: iterators\n",
      "\n",
      "Loading required package: parallel\n",
      "\n"
     ]
    }
   ],
   "source": [
    "# Library load\n",
    "library(knockoff)\n",
    "library(doParallel)"
   ]
  },
  {
   "cell_type": "code",
   "execution_count": 1,
   "metadata": {
    "vscode": {
     "languageId": "r"
    }
   },
   "outputs": [],
   "source": [
    "# Problem parameters\n",
    "set.seed(1234)\n",
    "n = 1000          # number of observations\n",
    "p = 1000          # number of variables\n",
    "k = 60            # number of variables with nonzero coefficients\n",
    "amplitude = 4.5   # signal amplitude (for noise level = 1)\n",
    "\n",
    "# Generate the variables from a multivariate normal distribution\n",
    "mu = rep(0,p)\n",
    "rho = 0.25\n",
    "Sigma = toeplitz(rho^(0:(p-1)))\n",
    "X = matrix(rnorm(n*p),n) %*% chol(Sigma)\n",
    "\n",
    "# Generate the response from a linear model\n",
    "nonzero = sample(p, k)\n",
    "beta = amplitude * (1:p %in% nonzero) / sqrt(n)\n",
    "y.sample = function(X) X %*% beta + rnorm(n)\n",
    "y = y.sample(X)"
   ]
  },
  {
   "cell_type": "markdown",
   "metadata": {},
   "source": [
    "### 1. Default settings"
   ]
  },
  {
   "cell_type": "markdown",
   "metadata": {},
   "source": [
    "* target false discovery rate is 0.1.\n",
    "* knockoff filter : model-X second-order Gaussian knockoffs.\n",
    "* test statistic : based on the lasso"
   ]
  },
  {
   "cell_type": "code",
   "execution_count": 6,
   "metadata": {
    "vscode": {
     "languageId": "r"
    }
   },
   "outputs": [
    {
     "name": "stderr",
     "output_type": "stream",
     "text": [
      "Warning message:\n",
      "“doParallel is not installed. Without parallelization, the statistics will be slower to compute”\n"
     ]
    },
    {
     "name": "stdout",
     "output_type": "stream",
     "text": [
      "Call:\n",
      "knockoff.filter(X = X, y = y)\n",
      "\n",
      "Selected variables:\n",
      " [1]  36  37  40  62  87  93 101 139 176 185 204 225 235 276 280 310 311 335 374\n",
      "[20] 418 440 441 447 449 470 488 494 530 544 545 560 571 580 681 683 687 691 747\n",
      "[39] 757 838 857 874 879 889 929 940 986 988 995\n"
     ]
    },
    {
     "data": {
      "text/html": [
       "0.0408163265306122"
      ],
      "text/latex": [
       "0.0408163265306122"
      ],
      "text/markdown": [
       "0.0408163265306122"
      ],
      "text/plain": [
       "[1] 0.04081633"
      ]
     },
     "metadata": {},
     "output_type": "display_data"
    }
   ],
   "source": [
    "result = knockoff.filter(X, y)\n",
    "print(result)\n"
   ]
  },
  {
   "cell_type": "code",
   "execution_count": null,
   "metadata": {
    "vscode": {
     "languageId": "r"
    }
   },
   "outputs": [],
   "source": [
    "fdp = function(selected) sum(beta[selected] == 0) / max(1, length(selected))\n",
    "fdp(result$selected)"
   ]
  },
  {
   "cell_type": "markdown",
   "metadata": {},
   "source": [
    "### 2. Changing parameters"
   ]
  },
  {
   "cell_type": "markdown",
   "metadata": {},
   "source": [
    "The knockoff package also includes other knockoff construction methods, all of which have names prefixed withknockoff.create. In the next snippet, we generate knockoffs using the true model parameters."
   ]
  },
  {
   "cell_type": "code",
   "execution_count": 9,
   "metadata": {
    "vscode": {
     "languageId": "r"
    }
   },
   "outputs": [
    {
     "name": "stderr",
     "output_type": "stream",
     "text": [
      "Loading required package: Matrix\n",
      "\n",
      "Loaded glmnet 4.1-8\n",
      "\n"
     ]
    },
    {
     "name": "stdout",
     "output_type": "stream",
     "text": [
      "Call:\n",
      "knockoff.filter(X = X, y = y, knockoffs = gaussian_knockoffs)\n",
      "\n",
      "Selected variables:\n",
      " [1]  34  36  37  54  62  87  93 101 139 164 176 185 204 225 235 276 280 305 310\n",
      "[20] 311 335 371 374 418 440 441 442 447 467 470 488 494 530 544 545 560 571 580\n",
      "[39] 612 681 683 687 691 709 747 756 757 792 838 852 857 874 879 883 889 929 931\n",
      "[58] 940 986 988 995\n"
     ]
    }
   ],
   "source": [
    "gaussian_knockoffs = function(X) create.gaussian(X, mu, Sigma)\n",
    "result = knockoff.filter(X, y, knockoffs=gaussian_knockoffs)\n",
    "print(result)"
   ]
  },
  {
   "cell_type": "code",
   "execution_count": 10,
   "metadata": {
    "vscode": {
     "languageId": "r"
    }
   },
   "outputs": [
    {
     "data": {
      "text/html": [
       "0.114754098360656"
      ],
      "text/latex": [
       "0.114754098360656"
      ],
      "text/markdown": [
       "0.114754098360656"
      ],
      "text/plain": [
       "[1] 0.1147541"
      ]
     },
     "metadata": {},
     "output_type": "display_data"
    }
   ],
   "source": [
    "fdp = function(selected) sum(beta[selected] == 0) / max(1, length(selected))\n",
    "fdp(result$selected)"
   ]
  },
  {
   "cell_type": "markdown",
   "metadata": {},
   "source": [
    "By default, the knockoff filter uses a test statistic based on the lasso. Specifically, it uses the statistic `stat.glmnet_coefdiff`, which computes $W_j = |Z_j| - |\\tilde{Z}_j|$ where $Z_j$ and $\\tilde{Z}_j$ are the lasso coefficient estimates for the jth variable and its knockoff, respectively. The value of the regularization parameter $\\lambda$ is selected by cross-validation and computed with glmnet.\n",
    "\n",
    "Several other built-in statistics are available, all of which have names prefixed with stat. For example, we can use statistics based on random forests. In addition to choosing different statistics, we can also vary the target FDR level (e.g. we now increase it to 0.2)."
   ]
  },
  {
   "cell_type": "code",
   "execution_count": 11,
   "metadata": {
    "vscode": {
     "languageId": "r"
    }
   },
   "outputs": [],
   "source": [
    "result = knockoff.filter(X, y, knockoffs = gaussian_knockoffs, statistic = stat.random_forest, fdr=0.2)\n",
    "print(result)"
   ]
  },
  {
   "cell_type": "markdown",
   "metadata": {},
   "source": [
    "The knockoff package supports two main styles of knockoff variables, semidefinite programming (SDP) knockoffs (the default) and equi-correlated knockoffs. Though more computationally expensive, the SDP knockoffs are statistically superior by having higher power. To create SDP knockoffs, this package relies on the R library [Rdsdp][Rdsdp] to efficiently solve the semidefinite program. In high-dimensional settings, this program becomes computationally intractable. A solution is then offered by approximate SDP (ASDP) knockoffs, which address this issue by solving a simpler relaxed problem based on a block-diagonal approximation of the covariance matrix. By default, the knockoff filter uses SDP knockoffs if $p<500$ and ASDP knockoffs otherwise.\n",
    "\n",
    "In this example we generate second-order Gaussian knockoffs using the estimated model parameters and the full SDP construction. Then, we run the knockoff filter as usual."
   ]
  },
  {
   "cell_type": "code",
   "execution_count": null,
   "metadata": {
    "vscode": {
     "languageId": "r"
    }
   },
   "outputs": [],
   "source": [
    "gaussian_knockoffs = function(X) create.second_order(X, method='sdp', shrink=T)\n",
    "result = knockoff.filter(X, y, knockoffs = gaussian_knockoffs)\n",
    "print(result)"
   ]
  },
  {
   "cell_type": "code",
   "execution_count": null,
   "metadata": {
    "vscode": {
     "languageId": "r"
    }
   },
   "outputs": [],
   "source": [
    "fdp(result$selected)"
   ]
  },
  {
   "cell_type": "markdown",
   "metadata": {},
   "source": [
    "Equicorrelated knockoffs offer a computationally cheaper alternative to SDP knockoffs, at the cost of lower statistical power. In this example we generate second-order Gaussian knockoffs using the estimated model parameters and the equicorrelated construction. Then we run the knockoff filter."
   ]
  },
  {
   "cell_type": "code",
   "execution_count": null,
   "metadata": {
    "vscode": {
     "languageId": "r"
    }
   },
   "outputs": [],
   "source": [
    "gaussian_knockoffs = function(X) create.second_order(X, method='equi', shrink=T)\n",
    "result = knockoff.filter(X, y, knockoffs = gaussian_knockoffs)\n",
    "print(result)"
   ]
  },
  {
   "cell_type": "code",
   "execution_count": null,
   "metadata": {
    "vscode": {
     "languageId": "r"
    }
   },
   "outputs": [],
   "source": [
    "fdp(result$selected)"
   ]
  },
  {
   "cell_type": "markdown",
   "metadata": {},
   "source": [
    "### 3.1 User defined test statistic"
   ]
  },
  {
   "cell_type": "markdown",
   "metadata": {},
   "source": [
    "In addition to using the predefined test statistics, it is also possible to use your own custom test statistics. To illustrate this functionality, we implement one of the simplest test statistics from the original knockoff filter paper, namely $ W_j = \\left|X_j^\\top \\cdot y\\right| - \\left|\\tilde{X}_j^\\top \\cdot y\\right|. $"
   ]
  },
  {
   "cell_type": "code",
   "execution_count": null,
   "metadata": {
    "vscode": {
     "languageId": "r"
    }
   },
   "outputs": [],
   "source": [
    "my_knockoff_stat = function(X, X_k, y) {\n",
    "  abs(t(X) %*% y) - abs(t(X_k) %*% y)\n",
    "}\n",
    "result = knockoff.filter(X, y, knockoffs = gaussian_knockoffs, statistic = my_knockoff_stat)\n",
    "print(result)"
   ]
  },
  {
   "cell_type": "code",
   "execution_count": null,
   "metadata": {
    "vscode": {
     "languageId": "r"
    }
   },
   "outputs": [],
   "source": [
    "fdp(result$selected)"
   ]
  },
  {
   "cell_type": "markdown",
   "metadata": {},
   "source": [
    "### 3.2 User defined knockoff generation functions"
   ]
  },
  {
   "cell_type": "markdown",
   "metadata": {},
   "source": [
    "In addition to using the predefined procedures for construction knockoff variables, it is also possible to create your own knockoffs. To illustrate this functionality, we implement a simple wrapper for the construction of second-order Model-X knockoffs."
   ]
  },
  {
   "cell_type": "code",
   "execution_count": null,
   "metadata": {
    "vscode": {
     "languageId": "r"
    }
   },
   "outputs": [],
   "source": [
    "create_knockoffs = function(X) {\n",
    "  create.second_order(X, shrink=T)\n",
    "}\n",
    "result = knockoff.filter(X, y, knockoffs=create_knockoffs)\n",
    "print(result)"
   ]
  },
  {
   "cell_type": "code",
   "execution_count": null,
   "metadata": {
    "vscode": {
     "languageId": "r"
    }
   },
   "outputs": [],
   "source": [
    "fdp(result$selected)"
   ]
  }
 ],
 "metadata": {
  "kernelspec": {
   "display_name": "R",
   "language": "R",
   "name": "ir"
  },
  "language_info": {
   "codemirror_mode": "r",
   "file_extension": ".r",
   "mimetype": "text/x-r-source",
   "name": "R",
   "pygments_lexer": "r",
   "version": "4.4.1"
  }
 },
 "nbformat": 4,
 "nbformat_minor": 2
}
